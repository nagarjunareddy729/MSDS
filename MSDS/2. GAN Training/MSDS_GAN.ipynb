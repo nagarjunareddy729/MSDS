{
 "cells": [
  {
   "cell_type": "code",
   "execution_count": 1,
   "metadata": {
    "execution": {
     "iopub.execute_input": "2022-07-29T07:14:00.291167Z",
     "iopub.status.busy": "2022-07-29T07:14:00.290087Z",
     "iopub.status.idle": "2022-07-29T07:14:03.225965Z",
     "shell.execute_reply": "2022-07-29T07:14:03.224863Z",
     "shell.execute_reply.started": "2022-07-29T07:14:00.291075Z"
    },
    "executionInfo": {
     "elapsed": 6256,
     "status": "ok",
     "timestamp": 1658030390415,
     "user": {
      "displayName": "Nagarjuna Chereddy",
      "userId": "04817415764154186541"
     },
     "user_tz": -330
    },
    "id": "ThUmbNpL7yxM"
   },
   "outputs": [],
   "source": [
    "# Supress warnings\n",
    "\n",
    "import warnings\n",
    "warnings.filterwarnings('ignore')\n",
    "\n",
    "# Import necessary libraries\n",
    "import pandas as pd, matplotlib.pyplot as plt, seaborn as sns, datetime, pytz, re, os\n",
    "\n",
    "from sdv.tabular import CTGAN, CopulaGAN"
   ]
  },
  {
   "cell_type": "code",
   "execution_count": 2,
   "metadata": {
    "execution": {
     "iopub.execute_input": "2022-07-29T07:14:03.229128Z",
     "iopub.status.busy": "2022-07-29T07:14:03.228565Z",
     "iopub.status.idle": "2022-07-29T07:14:03.234288Z",
     "shell.execute_reply": "2022-07-29T07:14:03.232855Z",
     "shell.execute_reply.started": "2022-07-29T07:14:03.229089Z"
    },
    "executionInfo": {
     "elapsed": 19,
     "status": "ok",
     "timestamp": 1658030390417,
     "user": {
      "displayName": "Nagarjuna Chereddy",
      "userId": "04817415764154186541"
     },
     "user_tz": -330
    },
    "id": "tRz3IzVzDV99"
   },
   "outputs": [],
   "source": [
    "folder_path = '' #r\"drive/MyDrive/LJMUdataset/Insurancedata/\""
   ]
  },
  {
   "cell_type": "code",
   "execution_count": 3,
   "metadata": {
    "execution": {
     "iopub.execute_input": "2022-07-29T07:14:03.236335Z",
     "iopub.status.busy": "2022-07-29T07:14:03.236098Z",
     "iopub.status.idle": "2022-07-29T07:14:03.242295Z",
     "shell.execute_reply": "2022-07-29T07:14:03.240901Z",
     "shell.execute_reply.started": "2022-07-29T07:14:03.236310Z"
    },
    "executionInfo": {
     "elapsed": 18,
     "status": "ok",
     "timestamp": 1658030390418,
     "user": {
      "displayName": "Nagarjuna Chereddy",
      "userId": "04817415764154186541"
     },
     "user_tz": -330
    },
    "id": "KAU_5vhVEIx-"
   },
   "outputs": [],
   "source": [
    "def token():\n",
    "  current_time = datetime.datetime.now(pytz.timezone('Asia/Kolkata'))\n",
    "  return re.sub(\"[^0-9]\",'',str(current_time).split('+')[0])\n",
    "\n",
    "def create_directory_for_each_run(token_code):\n",
    "    new_direc_path = os.path.join(folder_path,token_code)\n",
    "    os.mkdir(new_direc_path)\n",
    "    return new_direc_path"
   ]
  },
  {
   "cell_type": "code",
   "execution_count": 4,
   "metadata": {
    "colab": {
     "base_uri": "https://localhost:8080/",
     "height": 270
    },
    "execution": {
     "iopub.execute_input": "2022-07-29T07:14:05.058739Z",
     "iopub.status.busy": "2022-07-29T07:14:05.058365Z",
     "iopub.status.idle": "2022-07-29T07:14:05.568355Z",
     "shell.execute_reply": "2022-07-29T07:14:05.566968Z",
     "shell.execute_reply.started": "2022-07-29T07:14:05.058712Z"
    },
    "executionInfo": {
     "elapsed": 1786,
     "status": "ok",
     "timestamp": 1658030392188,
     "user": {
      "displayName": "Nagarjuna Chereddy",
      "userId": "04817415764154186541"
     },
     "user_tz": -330
    },
    "id": "4OnhwYv272kr",
    "outputId": "ef72180d-1264-44c5-a0d0-24d5d0fd3191"
   },
   "outputs": [
    {
     "data": {
      "text/html": [
       "<div>\n",
       "<style scoped>\n",
       "    .dataframe tbody tr th:only-of-type {\n",
       "        vertical-align: middle;\n",
       "    }\n",
       "\n",
       "    .dataframe tbody tr th {\n",
       "        vertical-align: top;\n",
       "    }\n",
       "\n",
       "    .dataframe thead th {\n",
       "        text-align: right;\n",
       "    }\n",
       "</style>\n",
       "<table border=\"1\" class=\"dataframe\">\n",
       "  <thead>\n",
       "    <tr style=\"text-align: right;\">\n",
       "      <th></th>\n",
       "      <th>Gender</th>\n",
       "      <th>Age</th>\n",
       "      <th>Previously_Insured</th>\n",
       "      <th>Vehicle_Damage</th>\n",
       "      <th>Annual_Premium</th>\n",
       "      <th>Vintage</th>\n",
       "      <th>Response</th>\n",
       "      <th>Less_than_1_year</th>\n",
       "      <th>More_than_2_years</th>\n",
       "      <th>Region_Code_10</th>\n",
       "      <th>...</th>\n",
       "      <th>Region_Code_6</th>\n",
       "      <th>Region_Code_8</th>\n",
       "      <th>Policy_Sales_Channel_122</th>\n",
       "      <th>Policy_Sales_Channel_124</th>\n",
       "      <th>Policy_Sales_Channel_152</th>\n",
       "      <th>Policy_Sales_Channel_154</th>\n",
       "      <th>Policy_Sales_Channel_156</th>\n",
       "      <th>Policy_Sales_Channel_157</th>\n",
       "      <th>Policy_Sales_Channel_160</th>\n",
       "      <th>Policy_Sales_Channel_26</th>\n",
       "    </tr>\n",
       "  </thead>\n",
       "  <tbody>\n",
       "    <tr>\n",
       "      <th>0</th>\n",
       "      <td>1</td>\n",
       "      <td>22</td>\n",
       "      <td>0</td>\n",
       "      <td>1</td>\n",
       "      <td>2630</td>\n",
       "      <td>207</td>\n",
       "      <td>0</td>\n",
       "      <td>1</td>\n",
       "      <td>0</td>\n",
       "      <td>0</td>\n",
       "      <td>...</td>\n",
       "      <td>0</td>\n",
       "      <td>0</td>\n",
       "      <td>0</td>\n",
       "      <td>0</td>\n",
       "      <td>0</td>\n",
       "      <td>0</td>\n",
       "      <td>0</td>\n",
       "      <td>0</td>\n",
       "      <td>1</td>\n",
       "      <td>0</td>\n",
       "    </tr>\n",
       "    <tr>\n",
       "      <th>1</th>\n",
       "      <td>1</td>\n",
       "      <td>29</td>\n",
       "      <td>1</td>\n",
       "      <td>0</td>\n",
       "      <td>36203</td>\n",
       "      <td>200</td>\n",
       "      <td>0</td>\n",
       "      <td>1</td>\n",
       "      <td>0</td>\n",
       "      <td>0</td>\n",
       "      <td>...</td>\n",
       "      <td>0</td>\n",
       "      <td>0</td>\n",
       "      <td>0</td>\n",
       "      <td>0</td>\n",
       "      <td>1</td>\n",
       "      <td>0</td>\n",
       "      <td>0</td>\n",
       "      <td>0</td>\n",
       "      <td>0</td>\n",
       "      <td>0</td>\n",
       "    </tr>\n",
       "    <tr>\n",
       "      <th>2</th>\n",
       "      <td>1</td>\n",
       "      <td>21</td>\n",
       "      <td>1</td>\n",
       "      <td>0</td>\n",
       "      <td>27240</td>\n",
       "      <td>33</td>\n",
       "      <td>0</td>\n",
       "      <td>1</td>\n",
       "      <td>0</td>\n",
       "      <td>0</td>\n",
       "      <td>...</td>\n",
       "      <td>0</td>\n",
       "      <td>0</td>\n",
       "      <td>0</td>\n",
       "      <td>0</td>\n",
       "      <td>0</td>\n",
       "      <td>0</td>\n",
       "      <td>0</td>\n",
       "      <td>0</td>\n",
       "      <td>1</td>\n",
       "      <td>0</td>\n",
       "    </tr>\n",
       "    <tr>\n",
       "      <th>3</th>\n",
       "      <td>0</td>\n",
       "      <td>59</td>\n",
       "      <td>0</td>\n",
       "      <td>1</td>\n",
       "      <td>37559</td>\n",
       "      <td>154</td>\n",
       "      <td>0</td>\n",
       "      <td>0</td>\n",
       "      <td>1</td>\n",
       "      <td>0</td>\n",
       "      <td>...</td>\n",
       "      <td>0</td>\n",
       "      <td>0</td>\n",
       "      <td>1</td>\n",
       "      <td>0</td>\n",
       "      <td>0</td>\n",
       "      <td>0</td>\n",
       "      <td>0</td>\n",
       "      <td>0</td>\n",
       "      <td>0</td>\n",
       "      <td>0</td>\n",
       "    </tr>\n",
       "    <tr>\n",
       "      <th>4</th>\n",
       "      <td>1</td>\n",
       "      <td>24</td>\n",
       "      <td>1</td>\n",
       "      <td>0</td>\n",
       "      <td>23031</td>\n",
       "      <td>198</td>\n",
       "      <td>0</td>\n",
       "      <td>1</td>\n",
       "      <td>0</td>\n",
       "      <td>0</td>\n",
       "      <td>...</td>\n",
       "      <td>0</td>\n",
       "      <td>0</td>\n",
       "      <td>0</td>\n",
       "      <td>0</td>\n",
       "      <td>0</td>\n",
       "      <td>0</td>\n",
       "      <td>0</td>\n",
       "      <td>0</td>\n",
       "      <td>0</td>\n",
       "      <td>0</td>\n",
       "    </tr>\n",
       "  </tbody>\n",
       "</table>\n",
       "<p>5 rows × 41 columns</p>\n",
       "</div>"
      ],
      "text/plain": [
       "   Gender  Age  Previously_Insured  Vehicle_Damage  Annual_Premium  Vintage  \\\n",
       "0       1   22                   0               1            2630      207   \n",
       "1       1   29                   1               0           36203      200   \n",
       "2       1   21                   1               0           27240       33   \n",
       "3       0   59                   0               1           37559      154   \n",
       "4       1   24                   1               0           23031      198   \n",
       "\n",
       "   Response  Less_than_1_year  More_than_2_years  Region_Code_10  ...  \\\n",
       "0         0                 1                  0               0  ...   \n",
       "1         0                 1                  0               0  ...   \n",
       "2         0                 1                  0               0  ...   \n",
       "3         0                 0                  1               0  ...   \n",
       "4         0                 1                  0               0  ...   \n",
       "\n",
       "   Region_Code_6  Region_Code_8  Policy_Sales_Channel_122  \\\n",
       "0              0              0                         0   \n",
       "1              0              0                         0   \n",
       "2              0              0                         0   \n",
       "3              0              0                         1   \n",
       "4              0              0                         0   \n",
       "\n",
       "   Policy_Sales_Channel_124  Policy_Sales_Channel_152  \\\n",
       "0                         0                         0   \n",
       "1                         0                         1   \n",
       "2                         0                         0   \n",
       "3                         0                         0   \n",
       "4                         0                         0   \n",
       "\n",
       "   Policy_Sales_Channel_154  Policy_Sales_Channel_156  \\\n",
       "0                         0                         0   \n",
       "1                         0                         0   \n",
       "2                         0                         0   \n",
       "3                         0                         0   \n",
       "4                         0                         0   \n",
       "\n",
       "   Policy_Sales_Channel_157  Policy_Sales_Channel_160  Policy_Sales_Channel_26  \n",
       "0                         0                         1                        0  \n",
       "1                         0                         0                        0  \n",
       "2                         0                         1                        0  \n",
       "3                         0                         0                        0  \n",
       "4                         0                         0                        0  \n",
       "\n",
       "[5 rows x 41 columns]"
      ]
     },
     "execution_count": 4,
     "metadata": {},
     "output_type": "execute_result"
    }
   ],
   "source": [
    "# load 10% train data\n",
    "\n",
    "df_10 = pd.read_excel(folder_path+'10_modelling_data.xlsx')\n",
    "df_10.head()"
   ]
  },
  {
   "cell_type": "markdown",
   "metadata": {
    "id": "Nx_kKbuOkwIM"
   },
   "source": [
    "## **2. Synthetic Data Generation using CTGAN and CopulaGAN**"
   ]
  },
  {
   "cell_type": "code",
   "execution_count": 5,
   "metadata": {
    "execution": {
     "iopub.execute_input": "2022-07-29T07:14:39.461054Z",
     "iopub.status.busy": "2022-07-29T07:14:39.460505Z",
     "iopub.status.idle": "2022-07-29T07:14:39.467180Z",
     "shell.execute_reply": "2022-07-29T07:14:39.466002Z",
     "shell.execute_reply.started": "2022-07-29T07:14:39.461047Z"
    },
    "executionInfo": {
     "elapsed": 683,
     "status": "ok",
     "timestamp": 1658032536671,
     "user": {
      "displayName": "Nagarjuna Chereddy",
      "userId": "04817415764154186541"
     },
     "user_tz": -330
    },
    "id": "Fx2zqoSwkvU4"
   },
   "outputs": [],
   "source": [
    "# Create instances of CTGAN and CopulaGAN model.\n",
    "\n",
    "ctgan_model = CTGAN(embedding_dim=128, generator_lr=0.0002, discriminator_lr=0.0002, batch_size=500, discriminator_steps=5, epochs=300)\n",
    "cpgan_model = CopulaGAN(embedding_dim=128, generator_lr=0.0002, discriminator_lr=0.0002, batch_size=500, discriminator_steps=5, epochs=300)"
   ]
  },
  {
   "cell_type": "code",
   "execution_count": 6,
   "metadata": {
    "colab": {
     "base_uri": "https://localhost:8080/",
     "height": 395
    },
    "execution": {
     "iopub.execute_input": "2022-07-29T07:14:46.281796Z",
     "iopub.status.busy": "2022-07-29T07:14:46.280443Z",
     "iopub.status.idle": "2022-07-29T07:26:10.993087Z",
     "shell.execute_reply": "2022-07-29T07:26:10.992111Z",
     "shell.execute_reply.started": "2022-07-29T07:14:46.281794Z"
    },
    "executionInfo": {
     "elapsed": 32460,
     "status": "error",
     "timestamp": 1658037787460,
     "user": {
      "displayName": "Nagarjuna Chereddy",
      "userId": "04817415764154186541"
     },
     "user_tz": -330
    },
    "id": "f2RFY1GzkvOf",
    "outputId": "ce3193cd-1718-44fc-ed49-8a72e87ff507"
   },
   "outputs": [
    {
     "name": "stdout",
     "output_type": "stream",
     "text": [
      "CPU times: total: 19h 56min 53s\n",
      "Wall time: 5h 1min 18s\n"
     ]
    }
   ],
   "source": [
    "%%time\n",
    "# Fit the data using CTGAN models\n",
    "\n",
    "ctgan_model.fit(df_10)"
   ]
  },
  {
   "cell_type": "code",
   "execution_count": 7,
   "metadata": {
    "colab": {
     "base_uri": "https://localhost:8080/",
     "height": 395
    },
    "executionInfo": {
     "elapsed": 32460,
     "status": "error",
     "timestamp": 1658037787460,
     "user": {
      "displayName": "Nagarjuna Chereddy",
      "userId": "04817415764154186541"
     },
     "user_tz": -330
    },
    "id": "f2RFY1GzkvOf",
    "outputId": "ce3193cd-1718-44fc-ed49-8a72e87ff507"
   },
   "outputs": [
    {
     "name": "stdout",
     "output_type": "stream",
     "text": [
      "CPU times: total: 18h 32min 15s\n",
      "Wall time: 4h 40min 12s\n"
     ]
    }
   ],
   "source": [
    "%%time\n",
    "# Fit the data using CopulaGAN models\n",
    "\n",
    "cpgan_model.fit(df_10)"
   ]
  },
  {
   "cell_type": "code",
   "execution_count": 8,
   "metadata": {
    "id": "retAhs6YAcOj"
   },
   "outputs": [],
   "source": [
    "# save models\n",
    "\n",
    "token_code = token()\n",
    "model_folder_path = os.path.join(create_directory_for_each_run(token_code), token_code)\n",
    "ctgan_model.save(model_folder_path+'ctgan_model.pkl')\n",
    "cpgan_model.save(model_folder_path+'cpgan_model.pkl')"
   ]
  },
  {
   "cell_type": "code",
   "execution_count": 9,
   "metadata": {},
   "outputs": [],
   "source": [
    "# sample synthetic data\n",
    "\n",
    "ct_syn_data = ctgan_model.sample(num_rows=len(df_10))\n",
    "cp_syn_data = cpgan_model.sample(num_rows=len(df_10))"
   ]
  },
  {
   "cell_type": "code",
   "execution_count": 10,
   "metadata": {},
   "outputs": [
    {
     "data": {
      "text/plain": [
       "(0.9843880738951312, 0.7587586164715724)"
      ]
     },
     "execution_count": 10,
     "metadata": {},
     "output_type": "execute_result"
    }
   ],
   "source": [
    "# Evaluate synthetic data from CTGAN model\n",
    "\n",
    "from sdv.metrics.tabular import KSTest, LogisticDetection\n",
    "\n",
    "kst_ct = KSTest.compute(df_10, ct_syn_data)\n",
    "ld_ct = LogisticDetection.compute(df_10, ct_syn_data)\n",
    "kst_ct, ld_ct"
   ]
  },
  {
   "cell_type": "code",
   "execution_count": 11,
   "metadata": {},
   "outputs": [
    {
     "data": {
      "text/plain": [
       "(0.9906376949416493, 0.8234830470424263)"
      ]
     },
     "execution_count": 11,
     "metadata": {},
     "output_type": "execute_result"
    }
   ],
   "source": [
    "# Evaluate synthetic data from CopulaGAN model\n",
    "\n",
    "kst_cp = KSTest.compute(df_10, cp_syn_data)\n",
    "ld_cp = LogisticDetection.compute(df_10, cp_syn_data)\n",
    "kst_cp, ld_cp"
   ]
  },
  {
   "cell_type": "code",
   "execution_count": 16,
   "metadata": {},
   "outputs": [],
   "source": [
    "# Condition to synthesize data to handle class imbalance\n",
    "\n",
    "from sdv.sampling import Condition\n",
    "\n",
    "condtition = Condition({'Response':1}, num_rows=223686)"
   ]
  },
  {
   "cell_type": "code",
   "execution_count": 17,
   "metadata": {},
   "outputs": [
    {
     "name": "stderr",
     "output_type": "stream",
     "text": [
      "Sampling conditions: 100%|████████████████████████████████████████████████████| 223686/223686 [06:20<00:00, 587.67it/s]"
     ]
    },
    {
     "name": "stdout",
     "output_type": "stream",
     "text": [
      "CPU times: total: 21min 1s\n",
      "Wall time: 6min 58s\n"
     ]
    },
    {
     "name": "stderr",
     "output_type": "stream",
     "text": [
      "\n"
     ]
    }
   ],
   "source": [
    "%%time\n",
    "# Resample synthetic data points from CTGAN model\n",
    "\n",
    "ct_syn_data_10 = ctgan_model.sample(num_rows=26750)\n",
    "ct_syn_data_20 = ctgan_model.sample(num_rows=53501)\n",
    "ct_syn_data_40 = ctgan_model.sample(num_rows=107002)\n",
    "ct_syn_data_1 = ctgan_model.sample_conditions(conditions=[condtition])"
   ]
  },
  {
   "cell_type": "code",
   "execution_count": 18,
   "metadata": {},
   "outputs": [
    {
     "name": "stderr",
     "output_type": "stream",
     "text": [
      "Sampling conditions: 100%|████████████████████████████████████████████████████| 223686/223686 [05:39<00:00, 658.85it/s]"
     ]
    },
    {
     "name": "stdout",
     "output_type": "stream",
     "text": [
      "CPU times: total: 16min 37s\n",
      "Wall time: 6min 11s\n"
     ]
    },
    {
     "name": "stderr",
     "output_type": "stream",
     "text": [
      "\n"
     ]
    }
   ],
   "source": [
    "%%time\n",
    "# Resample synthetic data points from CopulaGAN model\n",
    "\n",
    "cp_syn_data_10 = cpgan_model.sample(num_rows=26750)\n",
    "cp_syn_data_20 = cpgan_model.sample(num_rows=53501)\n",
    "cp_syn_data_40 = cpgan_model.sample(num_rows=107002)\n",
    "cp_syn_data_1 = cpgan_model.sample_conditions(conditions=[condtition])"
   ]
  },
  {
   "cell_type": "code",
   "execution_count": 21,
   "metadata": {},
   "outputs": [],
   "source": [
    "# saving data to excel\n",
    "\n",
    "ct_syn_data_10.to_excel(model_folder_path+'ct_syn_data_10_train.xlsx')\n",
    "ct_syn_data_20.to_excel(model_folder_path+'ct_syn_data_20_train.xlsx')\n",
    "ct_syn_data_40.to_excel(model_folder_path+'ct_syn_data_40_train.xlsx')\n",
    "ct_syn_data_1.to_excel(model_folder_path+'ct_syn_data_1_train.xlsx')\n",
    "\n",
    "cp_syn_data_10.to_excel(model_folder_path+'cp_syn_data_10_train.xlsx')\n",
    "cp_syn_data_20.to_excel(model_folder_path+'cp_syn_data_20_train.xlsx')\n",
    "cp_syn_data_40.to_excel(model_folder_path+'cp_syn_data_40_train.xlsx')\n",
    "cp_syn_data_1.to_excel(model_folder_path+'cp_syn_data_1_train.xlsx')"
   ]
  }
 ],
 "metadata": {
  "accelerator": "GPU",
  "colab": {
   "collapsed_sections": [],
   "name": "MSDS.ipynb",
   "provenance": []
  },
  "gpuClass": "standard",
  "kernelspec": {
   "display_name": "MSDS_venv",
   "language": "python",
   "name": "msds_venv"
  },
  "language_info": {
   "codemirror_mode": {
    "name": "ipython",
    "version": 3
   },
   "file_extension": ".py",
   "mimetype": "text/x-python",
   "name": "python",
   "nbconvert_exporter": "python",
   "pygments_lexer": "ipython3",
   "version": "3.9.4"
  }
 },
 "nbformat": 4,
 "nbformat_minor": 4
}
